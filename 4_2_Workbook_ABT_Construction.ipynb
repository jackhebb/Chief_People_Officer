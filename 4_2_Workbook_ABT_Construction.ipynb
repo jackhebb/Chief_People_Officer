{
  "nbformat": 4,
  "nbformat_minor": 0,
  "metadata": {
    "anaconda-cloud": {},
    "kernelspec": {
      "display_name": "Python 3",
      "language": "python",
      "name": "python3"
    },
    "language_info": {
      "codemirror_mode": {
        "name": "ipython",
        "version": 3
      },
      "file_extension": ".py",
      "mimetype": "text/x-python",
      "name": "python",
      "nbconvert_exporter": "python",
      "pygments_lexer": "ipython3",
      "version": "3.7.0"
    },
    "colab": {
      "name": "4.2 - Workbook - ABT Construction.ipynb",
      "provenance": []
    }
  },
  "cells": [
    {
      "cell_type": "markdown",
      "metadata": {
        "id": "_SknPAfBvUxq",
        "colab_type": "text"
      },
      "source": [
        "#### COMPANION WORKBOOK\n",
        "\n",
        "# ABT Construction\n",
        "\n",
        "This module does not have a separate Coding Section. Instead, we will be using the exercises below to run all mission-critical code."
      ]
    },
    {
      "cell_type": "markdown",
      "metadata": {
        "id": "d7bEl4vsvUxu",
        "colab_type": "text"
      },
      "source": [
        "#### First, let's import libraries we'll need for data cleaning and feature engineering.\n",
        "\n",
        "In general, it's good practice to keep all of your library imports at the top of your notebook or program. **Tip:** If you forget one, you can always add it here later and re-run this code block.\n",
        "\n",
        "We've provided comments for guidance."
      ]
    },
    {
      "cell_type": "code",
      "metadata": {
        "id": "q_mq-T0ivUxv",
        "colab_type": "code",
        "colab": {
          "base_uri": "https://localhost:8080/",
          "height": 71
        },
        "outputId": "ff15a2ba-b327-46a5-f40e-0d524624f8f0"
      },
      "source": [
        "import numpy as np\n",
        "import pandas as pd\n",
        "pd.set_option('display.max_columns', 100)\n",
        "pd.set_option('display.float_format', lambda x: '%.3f' % x)\n",
        "\n",
        "from matplotlib import pyplot as plt\n",
        "%matplotlib inline\n",
        "\n",
        "import seaborn as sns\n",
        "sns.set_style('darkgrid')"
      ],
      "execution_count": null,
      "outputs": [
        {
          "output_type": "stream",
          "text": [
            "/usr/local/lib/python3.6/dist-packages/statsmodels/tools/_testing.py:19: FutureWarning: pandas.util.testing is deprecated. Use the functions in the public API at pandas.testing instead.\n",
            "  import pandas.util.testing as tm\n"
          ],
          "name": "stderr"
        }
      ]
    },
    {
      "cell_type": "markdown",
      "metadata": {
        "id": "XW9oOFrcvUx3",
        "colab_type": "text"
      },
      "source": [
        "#### Next, read in the dataset.\n",
        "* The file name is <code style=\"color:crimson\">'employee_data.csv'</code>"
      ]
    },
    {
      "cell_type": "code",
      "metadata": {
        "id": "fefE4-sxvUx4",
        "colab_type": "code",
        "colab": {
          "resources": {
            "http://localhost:8080/nbextensions/google.colab/files.js": {
              "data": "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",
              "ok": true,
              "headers": [
                [
                  "content-type",
                  "application/javascript"
                ]
              ],
              "status": 200,
              "status_text": ""
            }
          },
          "base_uri": "https://localhost:8080/",
          "height": 73
        },
        "outputId": "b1d5f540-1ce8-492a-de02-ee6c2ad687c0"
      },
      "source": [
        "from google.colab import files\n",
        "uploaded = files.upload()"
      ],
      "execution_count": null,
      "outputs": [
        {
          "output_type": "display_data",
          "data": {
            "text/html": [
              "\n",
              "     <input type=\"file\" id=\"files-81d2ec9e-9d3e-4abb-b4c9-dda70eed068e\" name=\"files[]\" multiple disabled\n",
              "        style=\"border:none\" />\n",
              "     <output id=\"result-81d2ec9e-9d3e-4abb-b4c9-dda70eed068e\">\n",
              "      Upload widget is only available when the cell has been executed in the\n",
              "      current browser session. Please rerun this cell to enable.\n",
              "      </output>\n",
              "      <script src=\"/nbextensions/google.colab/files.js\"></script> "
            ],
            "text/plain": [
              "<IPython.core.display.HTML object>"
            ]
          },
          "metadata": {
            "tags": []
          }
        },
        {
          "output_type": "stream",
          "text": [
            "Saving employee_data.csv to employee_data.csv\n"
          ],
          "name": "stdout"
        }
      ]
    },
    {
      "cell_type": "code",
      "metadata": {
        "id": "L8y8nJBxvz2y",
        "colab_type": "code",
        "colab": {}
      },
      "source": [
        "import io\n",
        "df = pd.read_csv(io.BytesIO(uploaded['employee_data.csv']))\n",
        "# Dataset is now stored in a Pandas Dataframe"
      ],
      "execution_count": null,
      "outputs": []
    },
    {
      "cell_type": "markdown",
      "metadata": {
        "id": "BElys3EyvUx9",
        "colab_type": "text"
      },
      "source": [
        "#### <span style=\"color:#555\">EXERCISES</span>\n",
        "\n",
        "Complete each of the following exercises."
      ]
    },
    {
      "cell_type": "markdown",
      "metadata": {
        "id": "NvxgHoQevUx-",
        "colab_type": "text"
      },
      "source": [
        "## <span style=\"color:RoyalBlue\">Exercise 2.1 - Drop Unwanted Observations</span>\n",
        "\n",
        "The first step to data cleaning is removing samples from your dataset that you don't want to include in the model.\n",
        "\n",
        "#### A.) First, <span style=\"color:royalblue\">drop duplicates</span> from the dataset.\n",
        "* Then, print the shape of the new dataframe."
      ]
    },
    {
      "cell_type": "code",
      "metadata": {
        "scrolled": true,
        "id": "OITQlVhuvUx_",
        "colab_type": "code",
        "colab": {
          "base_uri": "https://localhost:8080/",
          "height": 51
        },
        "outputId": "ff1790df-d735-423b-9f9c-3c3adfdec799"
      },
      "source": [
        "print( df.shape)\n",
        "df.drop_duplicates(inplace=True)\n",
        "print( df.shape)"
      ],
      "execution_count": null,
      "outputs": [
        {
          "output_type": "stream",
          "text": [
            "(14249, 10)\n",
            "(14221, 10)\n"
          ],
          "name": "stdout"
        }
      ]
    },
    {
      "cell_type": "markdown",
      "metadata": {
        "id": "FpIsuuJZvUyE",
        "colab_type": "text"
      },
      "source": [
        "<strong style=\"color:RoyalBlue\">Expected output:</strong>\n",
        "<pre>\n",
        "(14221, 10)\n",
        "</pre>"
      ]
    },
    {
      "cell_type": "markdown",
      "metadata": {
        "id": "vaP0nBvbvUyF",
        "colab_type": "text"
      },
      "source": [
        "Did we have any duplicates in the dataset? (Did the number of observations decrease after calling the drop duplicates function?)\n"
      ]
    },
    {
      "cell_type": "markdown",
      "metadata": {
        "id": "GeVbo_PZvUyG",
        "colab_type": "text"
      },
      "source": [
        "Next, let's drop any observations that are irrelevant to what we're trying to model. If you remember from the previous module, we saw that we have temp workers (based on the <code style=\"color:steelblue\">'department'</code> feature). However, based on our **project scope**, we don't want to model temp workers. Let's just double-check.\n",
        "\n",
        "#### B.) Display all of the unique classes of the <code style=\"color:steelblue\">'department'</code> feature."
      ]
    },
    {
      "cell_type": "code",
      "metadata": {
        "id": "ARyNJJ_mvUyH",
        "colab_type": "code",
        "colab": {
          "base_uri": "https://localhost:8080/",
          "height": 51
        },
        "outputId": "4e83d00e-988d-41ff-9541-b9eec55d5a5e"
      },
      "source": [
        "print( df.department.unique())"
      ],
      "execution_count": null,
      "outputs": [
        {
          "output_type": "stream",
          "text": [
            "['engineering' 'support' 'sales' 'IT' 'product' 'marketing' 'temp'\n",
            " 'procurement' 'finance' nan 'management' 'information_technology' 'admin']\n"
          ],
          "name": "stdout"
        }
      ]
    },
    {
      "cell_type": "markdown",
      "metadata": {
        "id": "9SMhT5gYvUyL",
        "colab_type": "text"
      },
      "source": [
        "<strong style=\"color:RoyalBlue\">Expected output:</strong>\n",
        "<pre>\n",
        "['engineering' 'support' 'sales' 'IT' 'product' 'marketing' 'temp'\n",
        " 'procurement' 'finance' nan 'management' 'information_technology' 'admin']\n",
        "</pre>"
      ]
    },
    {
      "cell_type": "markdown",
      "metadata": {
        "id": "GFV9pnKjvUyP",
        "colab_type": "text"
      },
      "source": [
        "Ignoring the <span style=\"color:crimson\">nan</span> for now, we can see that <span style=\"color:crimson\">'temp'</span> shouldn't belong in this dataset! After all, based on the project scope, we're only trying to build a model for **permanent, full time employees**. Therefore, we should remove observations that belong to the <span style=\"color:crimson\">'temp'</span> department. We don't want to risk them throwing off our model.\n",
        "\n",
        "#### C.) Drop all observations that belong to the <span style=\"color:crimson\">'temp'</span> department.\n",
        "* **Hint:** This is the same as keeping all that don't belong to that department.\n",
        "* **Hint:** Remember to overwrite your original dataframe.\n",
        "* Then, print the shape of the new dataframe."
      ]
    },
    {
      "cell_type": "code",
      "metadata": {
        "scrolled": true,
        "id": "_pG0b44NvUyQ",
        "colab_type": "code",
        "colab": {
          "base_uri": "https://localhost:8080/",
          "height": 34
        },
        "outputId": "e7ca50fa-66b9-405a-f331-7b763685593a"
      },
      "source": [
        "df = df[df.department != 'temp']\n",
        "print( df.shape )"
      ],
      "execution_count": null,
      "outputs": [
        {
          "output_type": "stream",
          "text": [
            "(14068, 10)\n"
          ],
          "name": "stdout"
        }
      ]
    },
    {
      "cell_type": "markdown",
      "metadata": {
        "id": "GBeM-XKzvUyV",
        "colab_type": "text"
      },
      "source": [
        "<strong style=\"color:RoyalBlue\">Expected output:</strong>\n",
        "<pre>\n",
        "(14068, 10)\n",
        "</pre>"
      ]
    },
    {
      "cell_type": "markdown",
      "metadata": {
        "id": "DlaaECaQvUyW",
        "colab_type": "text"
      },
      "source": [
        "## <span style=\"color:RoyalBlue\">Exercise 2.2 - Fix Structural Errors</span>\n",
        "\n",
        "The next bucket under data cleaning involves fixing structural errors, which arise during measurement, data transfer, or other types of \"poor housekeeping.\"\n",
        "\n",
        "First, let's handle any features that should be **indicator variables**. Remember, these are variables that **should** be either <code style=\"color:crimson\">0</code> or <code style=\"color:crimson\">1</code>. However, maybe they were saved under different logic.\n",
        "\n",
        "For example, remember the <code style=\"color:steelblue\">'filed_complaint'</code> and <code style=\"color:steelblue\">'recently_promoted'</code> features? They only had values of <code style=\"color:crimson\">1</code> and <code style=\"color:crimson\">NaN</code>.\n",
        "\n",
        "#### A.) Print the unique values of <code style=\"color:steelblue\">'filed_complaint'</code> and <code style=\"color:steelblue\">'recently_promoted'</code>."
      ]
    },
    {
      "cell_type": "code",
      "metadata": {
        "id": "JHRR2zTOvUyY",
        "colab_type": "code",
        "colab": {
          "base_uri": "https://localhost:8080/",
          "height": 51
        },
        "outputId": "bb91d5d4-a0b7-4e78-88a2-4fb72bf8dd4d"
      },
      "source": [
        "print ( df.filed_complaint.unique())\n",
        "print ( df.recently_promoted.unique())"
      ],
      "execution_count": null,
      "outputs": [
        {
          "output_type": "stream",
          "text": [
            "[nan  1.]\n",
            "[nan  1.]\n"
          ],
          "name": "stdout"
        }
      ]
    },
    {
      "cell_type": "markdown",
      "metadata": {
        "id": "qJU1d-S4vUyd",
        "colab_type": "text"
      },
      "source": [
        "<strong style=\"color:RoyalBlue\">Expected output:</strong>\n",
        "<pre>\n",
        "[nan  1.]\n",
        "[nan  1.]\n",
        "</pre>"
      ]
    },
    {
      "cell_type": "markdown",
      "metadata": {
        "id": "hlHG3gaCvUye",
        "colab_type": "text"
      },
      "source": [
        "Even though the <code style=\"color:crimson\">NaN</code> values are \"missing,\" they actually indicate employees who have not filed complaints or those who have not been recently promoted. Therefore, we should fill them in with the value <code style=\"color:crimson\">0</code>, which will turn them into true indicator variables."
      ]
    },
    {
      "cell_type": "markdown",
      "metadata": {
        "id": "I2KJG6W1vUyf",
        "colab_type": "text"
      },
      "source": [
        "#### B.) Fill missing <code style=\"color:steelblue\">'filed_complaint'</code> and <code style=\"color:steelblue\">'recently_promoted'</code> values with <code style=\"color:crimson\">0</code>."
      ]
    },
    {
      "cell_type": "code",
      "metadata": {
        "id": "Lh9DNvo6vUyf",
        "colab_type": "code",
        "colab": {}
      },
      "source": [
        "df.filed_complaint.fillna(0, inplace=True)\n",
        "df.recently_promoted.fillna(0, inplace=True) "
      ],
      "execution_count": null,
      "outputs": []
    },
    {
      "cell_type": "markdown",
      "metadata": {
        "id": "pPHPAw-5vUyj",
        "colab_type": "text"
      },
      "source": [
        "Now the \"missing\" values have been filled, and we have true indicator variables.\n",
        "\n",
        "#### C.) Print the unique values of <code style=\"color:steelblue\">'filed_complaint'</code> and <code style=\"color:steelblue\">'recently_promoted'</code> again, just as a quick sanity check."
      ]
    },
    {
      "cell_type": "code",
      "metadata": {
        "id": "qXItZiS6vUyl",
        "colab_type": "code",
        "colab": {
          "base_uri": "https://localhost:8080/",
          "height": 51
        },
        "outputId": "732fe3d3-5ccf-4802-ea8c-98f09bc0b762"
      },
      "source": [
        "print ( df.filed_complaint.unique() )\n",
        "print ( df.recently_promoted.unique() )"
      ],
      "execution_count": null,
      "outputs": [
        {
          "output_type": "stream",
          "text": [
            "[0. 1.]\n",
            "[0. 1.]\n"
          ],
          "name": "stdout"
        }
      ]
    },
    {
      "cell_type": "markdown",
      "metadata": {
        "id": "-Mr50tDZvUyp",
        "colab_type": "text"
      },
      "source": [
        "<strong style=\"color:RoyalBlue\">Expected output:</strong>\n",
        "<pre>\n",
        "[0. 1.]\n",
        "[0. 1.]\n",
        "</pre>"
      ]
    },
    {
      "cell_type": "markdown",
      "metadata": {
        "id": "HwAVhJ04vUyr",
        "colab_type": "text"
      },
      "source": [
        "Next, let's check for **typos**, **inconsistent capitalization**, or **mislabeled classes**. For example, if you remember from the previous module, we checked the class distributions for <code style=\"color:steelblue\">'department'</code> and found out that <code style=\"color:crimson\">'IT'</code> and <code style=\"color:crimson\">'information_technology'</code> as labeled as separate classes when they really refer to the same department. Let's fix that.\n",
        "\n",
        "#### D.) Replace any instances of <code style=\"color:crimson\">'information_technology'</code> with <code style=\"color:crimson\">'IT'</code> instead.\n",
        "* Remember to do it **inplace**.\n",
        "* Then, plot the **bar chart** for <code style=\"color:steelblue\">'department'</code> to see its new distribution."
      ]
    },
    {
      "cell_type": "code",
      "metadata": {
        "id": "bVKfSDFHvUys",
        "colab_type": "code",
        "colab": {
          "base_uri": "https://localhost:8080/",
          "height": 279
        },
        "outputId": "f2f7378f-03a8-4816-d10e-c58d37c12a82"
      },
      "source": [
        "df.department.replace ('information_technology', 'IT', inplace=True)\n",
        "sns.countplot (y='department', data=df)\n",
        "plt.show()"
      ],
      "execution_count": null,
      "outputs": [
        {
          "output_type": "display_data",
          "data": {
            "image/png": "[encoded data removed]",
            "text/plain": [
              "<Figure size 432x288 with 1 Axes>"
            ]
          },
          "metadata": {
            "tags": [],
            "needs_background": "light"
          }
        }
      ]
    },
    {
      "cell_type": "markdown",
      "metadata": {
        "id": "pkKBpdy6vUyy",
        "colab_type": "text"
      },
      "source": [
        "<strong style=\"color:RoyalBlue\">Expected output:</strong>\n",
        "<img src=\"data:image/png;base64,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&#10;\">"
      ]
    },
    {
      "cell_type": "markdown",
      "metadata": {
        "id": "eJvVL_C7vUyz",
        "colab_type": "text"
      },
      "source": [
        "Finally, let's consider if we need to remove any **unwanted outliers**. Well, here's another place where Exploratory Analysis helps us out a lot. We've already plotted the distributions for all of our features. \n",
        "\n",
        "And in this case, a simple eye-test is enough to tell us that it doesn't look like outliers will be a huge problem. Plus, because outliers are **innocent until proven guilty**, we don't have to spend too much time trying to chase them down. Let's check this off and move on to handling missing data."
      ]
    },
    {
      "cell_type": "markdown",
      "metadata": {
        "id": "65bQ7BPBvUy0",
        "colab_type": "text"
      },
      "source": [
        "## <span style=\"color:RoyalBlue\">Exercise 2.3 - Handle Missing Data</span>\n",
        "\n",
        "Next, it's time to handle **missing data**. Remember, the 2 most commonly recommended ways of dealing with missing data (dropping observations or imputing them) actually suck. Missing data is like missing a puzzle piece. If you drop it, that's like pretending the missing puzzle piece isn't there. If you impute it, that's like trying to squeeze in a piece from somewhere else in the puzzle.\n",
        "\n",
        "Instead, we're going to be labeling missing values so our algorithm knows they were originally missing.\n",
        "\n",
        "#### A.) First, let's pinpoint the missing data. Display the <span style=\"color:royalblue\">number of missing values</span> for each feature (both categorical and numeric)."
      ]
    },
    {
      "cell_type": "code",
      "metadata": {
        "id": "4OdcWZWPvUy1",
        "colab_type": "code",
        "colab": {
          "base_uri": "https://localhost:8080/",
          "height": 204
        },
        "outputId": "46145eb7-defd-4080-fdf9-439d867605ab"
      },
      "source": [
        "df.isnull().sum()"
      ],
      "execution_count": null,
      "outputs": [
        {
          "output_type": "execute_result",
          "data": {
            "text/plain": [
              "avg_monthly_hrs         0\n",
              "department            709\n",
              "filed_complaint         0\n",
              "last_evaluation      1351\n",
              "n_projects              0\n",
              "recently_promoted       0\n",
              "salary                  0\n",
              "satisfaction            0\n",
              "status                  0\n",
              "tenure                  0\n",
              "dtype: int64"
            ]
          },
          "metadata": {
            "tags": []
          },
          "execution_count": 14
        }
      ]
    },
    {
      "cell_type": "markdown",
      "metadata": {
        "id": "wC6fH2gjvUy6",
        "colab_type": "text"
      },
      "source": [
        "<strong style=\"color:RoyalBlue\">Expected output:</strong>\n",
        "<pre>\n",
        "avg_monthly_hrs         0\n",
        "department            709\n",
        "filed_complaint         0\n",
        "last_evaluation      1351\n",
        "n_projects              0\n",
        "recently_promoted       0\n",
        "salary                  0\n",
        "satisfaction            0\n",
        "status                  0\n",
        "tenure                  0\n",
        "dtype: int64\n",
        "</pre>"
      ]
    },
    {
      "cell_type": "markdown",
      "metadata": {
        "id": "eAuArVpMvUy7",
        "colab_type": "text"
      },
      "source": [
        "**Note:** If you've been paying very close attention, you'll notice that in the previous module, <code>'satisfaction'</code> and <code>'tenure'</code> appeared to have missing values as well. As it turns out, those missing values belonged to temp workers, so we now have complete data for those two features after dropping temp workers from the dataset."
      ]
    },
    {
      "cell_type": "markdown",
      "metadata": {
        "id": "f-eaxytlvUy7",
        "colab_type": "text"
      },
      "source": [
        "It looks like we have 1 categorical feature with missing data (<code style=\"color:steelblue\">'department'</code>) and one numeric feature (<code style=\"color:steelblue\">'last_evaluation'</code>). No problem. Remember, for categorical features, the strategy for dealing with them is **labeling them as missing**.\n",
        "\n",
        "#### B.) Label missing values in <code style=\"color:steelblue\">'department'</code> as <code style=\"color:crimson\">'Missing'</code>."
      ]
    },
    {
      "cell_type": "code",
      "metadata": {
        "id": "kqujNPMfvUy8",
        "colab_type": "code",
        "colab": {}
      },
      "source": [
        "df['department'].fillna('Missing', inplace=True)"
      ],
      "execution_count": null,
      "outputs": []
    },
    {
      "cell_type": "markdown",
      "metadata": {
        "id": "DFPge1GkvUzC",
        "colab_type": "text"
      },
      "source": [
        "Next, let's **flag and fill** missing numerical features.\n",
        "\n",
        "#### C.) First, let's flag <code style=\"color:steelblue\">'last_evaluation'</code> with an indicator variable of missingness.\n",
        "* <code style=\"color:crimson\">0</code> if not missing.\n",
        "* <code style=\"color:crimson\">1</code> if missing. \n",
        "\n",
        "Let's name the new indicator variable <code style=\"color:steelblue\">'last_evaluation_missing'</code>.\n",
        "* We can use the <code style=\"color:steelblue\">.isnull()</code> function.\n",
        "* Also, remember to convert it with <code style=\"color:steelblue\">.astype(int)</code>"
      ]
    },
    {
      "cell_type": "code",
      "metadata": {
        "id": "pW2Sjpk6vUzC",
        "colab_type": "code",
        "colab": {}
      },
      "source": [
        "df['last_evaluation_missing'] = df.last_evaluation.isnull().astype(int)"
      ],
      "execution_count": null,
      "outputs": []
    },
    {
      "cell_type": "markdown",
      "metadata": {
        "id": "sZoP2tCtvUzI",
        "colab_type": "text"
      },
      "source": [
        "#### D.) Then, simply fill in the original missing value with <code style=\"color:crimson\">0</code> just so your algorithms can run properly."
      ]
    },
    {
      "cell_type": "code",
      "metadata": {
        "id": "T2XRwyzMvUzJ",
        "colab_type": "code",
        "colab": {}
      },
      "source": [
        "df.last_evaluation.fillna(0, inplace=True)"
      ],
      "execution_count": null,
      "outputs": []
    },
    {
      "cell_type": "markdown",
      "metadata": {
        "id": "oK45bD8nvUzO",
        "colab_type": "text"
      },
      "source": [
        "Remember, by using this technique of flagging and filling, you are essentially **allowing the algorithm to estimate the optimal constant for missingness**, instead of just filling it in with the mean.\n",
        "\n",
        "Now, our dataset should no longer have missing values.\n",
        "\n",
        "#### E.) Display the number of missing values for each feature (both categorical and numeric) again, just to confirm."
      ]
    },
    {
      "cell_type": "code",
      "metadata": {
        "id": "e67ttoJvvUzP",
        "colab_type": "code",
        "colab": {
          "base_uri": "https://localhost:8080/",
          "height": 221
        },
        "outputId": "2ff42e14-99ac-444a-8ba0-e454c95fae4a"
      },
      "source": [
        "df.isnull().sum()"
      ],
      "execution_count": null,
      "outputs": [
        {
          "output_type": "execute_result",
          "data": {
            "text/plain": [
              "avg_monthly_hrs            0\n",
              "department                 0\n",
              "filed_complaint            0\n",
              "last_evaluation            0\n",
              "n_projects                 0\n",
              "recently_promoted          0\n",
              "salary                     0\n",
              "satisfaction               0\n",
              "status                     0\n",
              "tenure                     0\n",
              "last_evaluation_missing    0\n",
              "dtype: int64"
            ]
          },
          "metadata": {
            "tags": []
          },
          "execution_count": 18
        }
      ]
    },
    {
      "cell_type": "markdown",
      "metadata": {
        "id": "Hd7arPRqvUzT",
        "colab_type": "text"
      },
      "source": [
        "<strong style=\"color:RoyalBlue\">Expected output:</strong>\n",
        "<pre>\n",
        "avg_monthly_hrs            0\n",
        "department                 0\n",
        "filed_complaint            0\n",
        "last_evaluation            0\n",
        "n_projects                 0\n",
        "recently_promoted          0\n",
        "salary                     0\n",
        "satisfaction               0\n",
        "status                     0\n",
        "tenure                     0\n",
        "last_evaluation_missing    0\n",
        "dtype: int64\n",
        "</pre>"
      ]
    },
    {
      "cell_type": "markdown",
      "metadata": {
        "id": "Yi5XW2vBvUzU",
        "colab_type": "text"
      },
      "source": [
        "## <span style=\"color:RoyalBlue\">Exercise 2.4 - Engineer Features</span>\n",
        "\n",
        "For this project, we're going to have an abbreviated version of feature engineering, since we've already covered many tactics in the previous project. Plus, since our dataset is larger, we don't really suffer from sparse classes as much. Instead, for this project, we want to highlight an elegant way good exploratory analysis translates to better feature engineering.\n",
        "\n",
        "You see, we won't always have a lot of **domain knowledge** for the problem. In these situations, we should rely on exploratory analysis to provide us hints (a.k.a. \"aha moments\").\n",
        "\n",
        "Do you remember the scatterplot of <code style=\"color:steelblue\">'satisfaction'</code> and <code style=\"color:steelblue\">'last_evaluation'</code> for employees who have <code style=\"color:crimson\">'Left'</code>?\n",
        "\n",
        "#### A.) Let's reproduce it here, just so we have it in front of us."
      ]
    },
    {
      "cell_type": "code",
      "metadata": {
        "id": "RAOzwV4jvUzU",
        "colab_type": "code",
        "colab": {
          "base_uri": "https://localhost:8080/",
          "height": 369
        },
        "outputId": "d6afe7ff-534d-42e4-a517-c7df2ab958f1"
      },
      "source": [
        "sns.lmplot(x='satisfaction',\n",
        "           y='last_evaluation',\n",
        "           data=df[df.status == 'Left'],\n",
        "           fit_reg=False)\n",
        "plt.show()"
      ],
      "execution_count": null,
      "outputs": [
        {
          "output_type": "display_data",
          "data": {
            "image/png": "[encoded data removed]",
            "text/plain": [
              "<Figure size 360x360 with 1 Axes>"
            ]
          },
          "metadata": {
            "tags": [],
            "needs_background": "light"
          }
        }
      ]
    },
    {
      "cell_type": "markdown",
      "metadata": {
        "id": "_H4U8K7HvUzZ",
        "colab_type": "text"
      },
      "source": [
        "<strong style=\"color:RoyalBlue\">Expected output:</strong>\n",
        "<img src=\"data:image/png;base64,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&#10;\">"
      ]
    },
    {
      "cell_type": "markdown",
      "metadata": {
        "id": "TSRvvodfvUza",
        "colab_type": "text"
      },
      "source": [
        "Ah, that looks different from the one in the previous module! \n",
        "* Oh yes, it's because we just **flagged and filled** missing values for <code style=\"color:steelblue\">'last_evaluation'</code> with 0.\n",
        "* No problem, but let's ignore those observations for now and focus on the top half of the plot.\n",
        "\n",
        "Based on the top half, it looks like there are 3 clusters of people who left.\n",
        "1. First, we have people with high <code style=\"color:steelblue\">'last_evaluation'</code> but low <code style=\"color:steelblue\">'satisfaction'</code>. Maybe these people were overqualified, frustrated, or **unhappy** in some other way.\n",
        "2. Next, we have people with low <code style=\"color:steelblue\">'last_evaluation'</code> and medium <code style=\"color:steelblue\">'satisfaction'</code>. These were probably **underperformers** or poor cultural fits.\n",
        "3. Finally, we have people with high <code style=\"color:steelblue\">'last_evaluation'</code> and high <code style=\"color:steelblue\">'satisfaction'</code>. Perhaps these were **overachievers** who found better offers elsewhere.\n",
        "\n",
        "These roughly translate to 3 **indicator features** we can engineer:\n",
        "\n",
        "* <code style=\"color:steelblue\">'underperformer'</code> - last_evaluation < 0.6 and last_evaluation_missing == 0\n",
        "* <code style=\"color:steelblue\">'unhappy'</code> - satisfaction_level < 0.2\n",
        "* <code style=\"color:steelblue\">'overachiever'</code> - last_evaluation > 0.8 and satisfaction > 0.7\n",
        "\n",
        "\n",
        "#### B.) Create those 3 indicator features.\n",
        "* Use boolean masks.\n",
        "* **Important:** For <code style=\"color:steelblue\">'underperformer'</code>, it's important to include <code style=\"color:steelblue\">'last_evaluation_missing' == 0</code> to avoid those originally missing observations that we flagged and filled."
      ]
    },
    {
      "cell_type": "code",
      "metadata": {
        "id": "qXTsEnvhvUzb",
        "colab_type": "code",
        "colab": {}
      },
      "source": [
        "df['underperformer'] = ((df.last_evaluation < 0.6) &\n",
        "                        (df.last_evaluation_missing == 0)).astype(int)\n",
        "\n",
        "df['unhappy'] = (df.satisfaction < 0.2).astype(int)\n",
        "\n",
        "df['overachiever'] = ((df.last_evaluation > 0.8) & (df.satisfaction > 0.7)).astype(int)"
      ],
      "execution_count": null,
      "outputs": []
    },
    {
      "cell_type": "markdown",
      "metadata": {
        "id": "_94Svr45vUzf",
        "colab_type": "text"
      },
      "source": [
        "#### C.) Finally, check that you created the features correctly. Display the proportion of employees from the dataset that fall into each of those 3 categories."
      ]
    },
    {
      "cell_type": "code",
      "metadata": {
        "id": "KS_Qur-6vUzg",
        "colab_type": "code",
        "colab": {
          "base_uri": "https://localhost:8080/",
          "height": 85
        },
        "outputId": "834a164f-9eeb-4dcd-802e-eb13bc075525"
      },
      "source": [
        "df[['underperformer', 'unhappy', 'overachiever']].mean()"
      ],
      "execution_count": null,
      "outputs": [
        {
          "output_type": "execute_result",
          "data": {
            "text/plain": [
              "underperformer   0.285\n",
              "unhappy          0.092\n",
              "overachiever     0.177\n",
              "dtype: float64"
            ]
          },
          "metadata": {
            "tags": []
          },
          "execution_count": 21
        }
      ]
    },
    {
      "cell_type": "markdown",
      "metadata": {
        "id": "psqUFdHAvUzj",
        "colab_type": "text"
      },
      "source": [
        "<strong style=\"color:RoyalBlue\">Expected output:</strong>\n",
        "<pre>\n",
        "underperformer    0.285257\n",
        "unhappy           0.092195\n",
        "overachiever      0.177069\n",
        "dtype: float64\n",
        "</pre>"
      ]
    },
    {
      "cell_type": "markdown",
      "metadata": {
        "id": "7WTSFvAVvUzk",
        "colab_type": "text"
      },
      "source": [
        "## <span style=\"color:RoyalBlue\">Exercise 2.5 - Save the ABT</span>\n",
        "\n",
        "Finally, let's save the **analytical base table**. But before we do, we need to take care of 2 things.\n",
        "1. First, we need to convert our target variable into an indicator variable.\n",
        "2. Second, we need to convert other categorical features into dummy variables.\n",
        "\n",
        "Scikit-Learn expects the target variable to be **numeric**. And since we only have 2 classes (<code style=\"color:crimson\">'Left'</code> and <code style=\"color:crimson\">'Employed'</code>), we can convert it into an indicator variable.\n",
        "\n",
        "#### A.) Convert <code style=\"color:steelblue\">'status'</code> into an indicator variable.\n",
        "* <code style=\"color:crimson\">'Left'</code> should be <code style=\"color:crimson\">1</code>\n",
        "* <code style=\"color:crimson\">'Employed'</code> should be <code style=\"color:crimson\">0</code>\n",
        "* **Tip:** There's also a really easy way you can use <code style=\"color:steelblue\">pd.get_dummies()</code> here. Try to see if you can discover it through trial-and-error and/or looking at the documentation. Otherwise, you can check the answer key."
      ]
    },
    {
      "cell_type": "code",
      "metadata": {
        "id": "vx6HOQm2vUzl",
        "colab_type": "code",
        "colab": {}
      },
      "source": [
        "df['status'] = pd.get_dummies( df.status ).Left"
      ],
      "execution_count": null,
      "outputs": []
    },
    {
      "cell_type": "markdown",
      "metadata": {
        "id": "MvZcOquDvUzr",
        "colab_type": "text"
      },
      "source": [
        "#### B.) To confirm we did that correctly, display the proportion of people in our dataset who left."
      ]
    },
    {
      "cell_type": "code",
      "metadata": {
        "id": "Z0-i3nn_vUzr",
        "colab_type": "code",
        "colab": {
          "base_uri": "https://localhost:8080/",
          "height": 34
        },
        "outputId": "482ac1e7-5f95-405c-ccca-e0e5b77e5f17"
      },
      "source": [
        "df.status.mean()"
      ],
      "execution_count": null,
      "outputs": [
        {
          "output_type": "execute_result",
          "data": {
            "text/plain": [
              "0.23933750355416547"
            ]
          },
          "metadata": {
            "tags": []
          },
          "execution_count": 23
        }
      ]
    },
    {
      "cell_type": "markdown",
      "metadata": {
        "id": "JQzVIMyhvUzx",
        "colab_type": "text"
      },
      "source": [
        "<strong style=\"color:RoyalBlue\">Expected output:</strong>\n",
        "<pre>\n",
        "0.23933750355416547\n",
        "</pre>"
      ]
    },
    {
      "cell_type": "markdown",
      "metadata": {
        "id": "zI1ttgSJvUzx",
        "colab_type": "text"
      },
      "source": [
        "Next, let's create dummy variables for the other categorical features.\n",
        "\n",
        "#### C.) Overwrite your dataframe with a version that has <span style=\"color:royalblue\">dummy variables</span> for the categorical features.\n",
        "* Then, display the first 10 rows to confirm all of the changes we've made so far in this module."
      ]
    },
    {
      "cell_type": "code",
      "metadata": {
        "id": "i58Pe03hvUzy",
        "colab_type": "code",
        "colab": {
          "base_uri": "https://localhost:8080/",
          "height": 379
        },
        "outputId": "6a2bacf7-4a7e-4973-c3a0-8cbe5644fb99"
      },
      "source": [
        "df = pd.get_dummies( df, columns=['department', 'salary'])\n",
        "df.head(10)"
      ],
      "execution_count": null,
      "outputs": [
        {
          "output_type": "execute_result",
          "data": {
            "text/html": [
              "<div>\n",
              "<style scoped>\n",
              "    .dataframe tbody tr th:only-of-type {\n",
              "        vertical-align: middle;\n",
              "    }\n",
              "\n",
              "    .dataframe tbody tr th {\n",
              "        vertical-align: top;\n",
              "    }\n",
              "\n",
              "    .dataframe thead th {\n",
              "        text-align: right;\n",
              "    }\n",
              "</style>\n",
              "<table border=\"1\" class=\"dataframe\">\n",
              "  <thead>\n",
              "    <tr style=\"text-align: right;\">\n",
              "      <th></th>\n",
              "      <th>avg_monthly_hrs</th>\n",
              "      <th>filed_complaint</th>\n",
              "      <th>last_evaluation</th>\n",
              "      <th>n_projects</th>\n",
              "      <th>recently_promoted</th>\n",
              "      <th>satisfaction</th>\n",
              "      <th>status</th>\n",
              "      <th>tenure</th>\n",
              "      <th>last_evaluation_missing</th>\n",
              "      <th>underperformer</th>\n",
              "      <th>unhappy</th>\n",
              "      <th>overachiever</th>\n",
              "      <th>department_IT</th>\n",
              "      <th>department_Missing</th>\n",
              "      <th>department_admin</th>\n",
              "      <th>department_engineering</th>\n",
              "      <th>department_finance</th>\n",
              "      <th>department_management</th>\n",
              "      <th>department_marketing</th>\n",
              "      <th>department_procurement</th>\n",
              "      <th>department_product</th>\n",
              "      <th>department_sales</th>\n",
              "      <th>department_support</th>\n",
              "      <th>salary_high</th>\n",
              "      <th>salary_low</th>\n",
              "      <th>salary_medium</th>\n",
              "    </tr>\n",
              "  </thead>\n",
              "  <tbody>\n",
              "    <tr>\n",
              "      <th>0</th>\n",
              "      <td>221</td>\n",
              "      <td>0.000</td>\n",
              "      <td>0.933</td>\n",
              "      <td>4</td>\n",
              "      <td>0.000</td>\n",
              "      <td>0.830</td>\n",
              "      <td>1</td>\n",
              "      <td>5.000</td>\n",
              "      <td>0</td>\n",
              "      <td>0</td>\n",
              "      <td>0</td>\n",
              "      <td>1</td>\n",
              "      <td>0</td>\n",
              "      <td>0</td>\n",
              "      <td>0</td>\n",
              "      <td>1</td>\n",
              "      <td>0</td>\n",
              "      <td>0</td>\n",
              "      <td>0</td>\n",
              "      <td>0</td>\n",
              "      <td>0</td>\n",
              "      <td>0</td>\n",
              "      <td>0</td>\n",
              "      <td>0</td>\n",
              "      <td>1</td>\n",
              "      <td>0</td>\n",
              "    </tr>\n",
              "    <tr>\n",
              "      <th>1</th>\n",
              "      <td>232</td>\n",
              "      <td>0.000</td>\n",
              "      <td>0.000</td>\n",
              "      <td>3</td>\n",
              "      <td>0.000</td>\n",
              "      <td>0.835</td>\n",
              "      <td>0</td>\n",
              "      <td>2.000</td>\n",
              "      <td>1</td>\n",
              "      <td>0</td>\n",
              "      <td>0</td>\n",
              "      <td>0</td>\n",
              "      <td>0</td>\n",
              "      <td>0</td>\n",
              "      <td>0</td>\n",
              "      <td>0</td>\n",
              "      <td>0</td>\n",
              "      <td>0</td>\n",
              "      <td>0</td>\n",
              "      <td>0</td>\n",
              "      <td>0</td>\n",
              "      <td>0</td>\n",
              "      <td>1</td>\n",
              "      <td>0</td>\n",
              "      <td>1</td>\n",
              "      <td>0</td>\n",
              "    </tr>\n",
              "    <tr>\n",
              "      <th>2</th>\n",
              "      <td>184</td>\n",
              "      <td>0.000</td>\n",
              "      <td>0.789</td>\n",
              "      <td>3</td>\n",
              "      <td>0.000</td>\n",
              "      <td>0.835</td>\n",
              "      <td>0</td>\n",
              "      <td>3.000</td>\n",
              "      <td>0</td>\n",
              "      <td>0</td>\n",
              "      <td>0</td>\n",
              "      <td>0</td>\n",
              "      <td>0</td>\n",
              "      <td>0</td>\n",
              "      <td>0</td>\n",
              "      <td>0</td>\n",
              "      <td>0</td>\n",
              "      <td>0</td>\n",
              "      <td>0</td>\n",
              "      <td>0</td>\n",
              "      <td>0</td>\n",
              "      <td>1</td>\n",
              "      <td>0</td>\n",
              "      <td>0</td>\n",
              "      <td>0</td>\n",
              "      <td>1</td>\n",
              "    </tr>\n",
              "    <tr>\n",
              "      <th>3</th>\n",
              "      <td>206</td>\n",
              "      <td>0.000</td>\n",
              "      <td>0.576</td>\n",
              "      <td>4</td>\n",
              "      <td>0.000</td>\n",
              "      <td>0.425</td>\n",
              "      <td>0</td>\n",
              "      <td>2.000</td>\n",
              "      <td>0</td>\n",
              "      <td>1</td>\n",
              "      <td>0</td>\n",
              "      <td>0</td>\n",
              "      <td>0</td>\n",
              "      <td>0</td>\n",
              "      <td>0</td>\n",
              "      <td>0</td>\n",
              "      <td>0</td>\n",
              "      <td>0</td>\n",
              "      <td>0</td>\n",
              "      <td>0</td>\n",
              "      <td>0</td>\n",
              "      <td>1</td>\n",
              "      <td>0</td>\n",
              "      <td>0</td>\n",
              "      <td>1</td>\n",
              "      <td>0</td>\n",
              "    </tr>\n",
              "    <tr>\n",
              "      <th>4</th>\n",
              "      <td>249</td>\n",
              "      <td>0.000</td>\n",
              "      <td>0.845</td>\n",
              "      <td>3</td>\n",
              "      <td>0.000</td>\n",
              "      <td>0.779</td>\n",
              "      <td>0</td>\n",
              "      <td>3.000</td>\n",
              "      <td>0</td>\n",
              "      <td>0</td>\n",
              "      <td>0</td>\n",
              "      <td>1</td>\n",
              "      <td>0</td>\n",
              "      <td>0</td>\n",
              "      <td>0</td>\n",
              "      <td>0</td>\n",
              "      <td>0</td>\n",
              "      <td>0</td>\n",
              "      <td>0</td>\n",
              "      <td>0</td>\n",
              "      <td>0</td>\n",
              "      <td>1</td>\n",
              "      <td>0</td>\n",
              "      <td>0</td>\n",
              "      <td>1</td>\n",
              "      <td>0</td>\n",
              "    </tr>\n",
              "    <tr>\n",
              "      <th>5</th>\n",
              "      <td>140</td>\n",
              "      <td>0.000</td>\n",
              "      <td>0.589</td>\n",
              "      <td>4</td>\n",
              "      <td>0.000</td>\n",
              "      <td>0.660</td>\n",
              "      <td>0</td>\n",
              "      <td>4.000</td>\n",
              "      <td>0</td>\n",
              "      <td>1</td>\n",
              "      <td>0</td>\n",
              "      <td>0</td>\n",
              "      <td>0</td>\n",
              "      <td>0</td>\n",
              "      <td>0</td>\n",
              "      <td>0</td>\n",
              "      <td>0</td>\n",
              "      <td>0</td>\n",
              "      <td>0</td>\n",
              "      <td>0</td>\n",
              "      <td>0</td>\n",
              "      <td>1</td>\n",
              "      <td>0</td>\n",
              "      <td>0</td>\n",
              "      <td>0</td>\n",
              "      <td>1</td>\n",
              "    </tr>\n",
              "    <tr>\n",
              "      <th>6</th>\n",
              "      <td>121</td>\n",
              "      <td>1.000</td>\n",
              "      <td>0.625</td>\n",
              "      <td>3</td>\n",
              "      <td>0.000</td>\n",
              "      <td>0.836</td>\n",
              "      <td>0</td>\n",
              "      <td>3.000</td>\n",
              "      <td>0</td>\n",
              "      <td>0</td>\n",
              "      <td>0</td>\n",
              "      <td>0</td>\n",
              "      <td>0</td>\n",
              "      <td>0</td>\n",
              "      <td>0</td>\n",
              "      <td>0</td>\n",
              "      <td>0</td>\n",
              "      <td>0</td>\n",
              "      <td>0</td>\n",
              "      <td>0</td>\n",
              "      <td>0</td>\n",
              "      <td>1</td>\n",
              "      <td>0</td>\n",
              "      <td>0</td>\n",
              "      <td>1</td>\n",
              "      <td>0</td>\n",
              "    </tr>\n",
              "    <tr>\n",
              "      <th>7</th>\n",
              "      <td>150</td>\n",
              "      <td>0.000</td>\n",
              "      <td>0.645</td>\n",
              "      <td>4</td>\n",
              "      <td>0.000</td>\n",
              "      <td>0.797</td>\n",
              "      <td>0</td>\n",
              "      <td>3.000</td>\n",
              "      <td>0</td>\n",
              "      <td>0</td>\n",
              "      <td>0</td>\n",
              "      <td>0</td>\n",
              "      <td>0</td>\n",
              "      <td>0</td>\n",
              "      <td>0</td>\n",
              "      <td>1</td>\n",
              "      <td>0</td>\n",
              "      <td>0</td>\n",
              "      <td>0</td>\n",
              "      <td>0</td>\n",
              "      <td>0</td>\n",
              "      <td>0</td>\n",
              "      <td>0</td>\n",
              "      <td>0</td>\n",
              "      <td>1</td>\n",
              "      <td>0</td>\n",
              "    </tr>\n",
              "    <tr>\n",
              "      <th>8</th>\n",
              "      <td>215</td>\n",
              "      <td>1.000</td>\n",
              "      <td>0.524</td>\n",
              "      <td>3</td>\n",
              "      <td>0.000</td>\n",
              "      <td>0.715</td>\n",
              "      <td>0</td>\n",
              "      <td>7.000</td>\n",
              "      <td>0</td>\n",
              "      <td>1</td>\n",
              "      <td>0</td>\n",
              "      <td>0</td>\n",
              "      <td>0</td>\n",
              "      <td>0</td>\n",
              "      <td>0</td>\n",
              "      <td>1</td>\n",
              "      <td>0</td>\n",
              "      <td>0</td>\n",
              "      <td>0</td>\n",
              "      <td>0</td>\n",
              "      <td>0</td>\n",
              "      <td>0</td>\n",
              "      <td>0</td>\n",
              "      <td>0</td>\n",
              "      <td>0</td>\n",
              "      <td>1</td>\n",
              "    </tr>\n",
              "    <tr>\n",
              "      <th>9</th>\n",
              "      <td>269</td>\n",
              "      <td>0.000</td>\n",
              "      <td>0.909</td>\n",
              "      <td>5</td>\n",
              "      <td>0.000</td>\n",
              "      <td>0.994</td>\n",
              "      <td>0</td>\n",
              "      <td>2.000</td>\n",
              "      <td>0</td>\n",
              "      <td>0</td>\n",
              "      <td>0</td>\n",
              "      <td>1</td>\n",
              "      <td>0</td>\n",
              "      <td>0</td>\n",
              "      <td>0</td>\n",
              "      <td>0</td>\n",
              "      <td>0</td>\n",
              "      <td>0</td>\n",
              "      <td>0</td>\n",
              "      <td>0</td>\n",
              "      <td>0</td>\n",
              "      <td>0</td>\n",
              "      <td>1</td>\n",
              "      <td>0</td>\n",
              "      <td>0</td>\n",
              "      <td>1</td>\n",
              "    </tr>\n",
              "  </tbody>\n",
              "</table>\n",
              "</div>"
            ],
            "text/plain": [
              "   avg_monthly_hrs  filed_complaint  last_evaluation  n_projects  \\\n",
              "0              221            0.000            0.933           4   \n",
              "1              232            0.000            0.000           3   \n",
              "2              184            0.000            0.789           3   \n",
              "3              206            0.000            0.576           4   \n",
              "4              249            0.000            0.845           3   \n",
              "5              140            0.000            0.589           4   \n",
              "6              121            1.000            0.625           3   \n",
              "7              150            0.000            0.645           4   \n",
              "8              215            1.000            0.524           3   \n",
              "9              269            0.000            0.909           5   \n",
              "\n",
              "   recently_promoted  satisfaction  status  tenure  last_evaluation_missing  \\\n",
              "0              0.000         0.830       1   5.000                        0   \n",
              "1              0.000         0.835       0   2.000                        1   \n",
              "2              0.000         0.835       0   3.000                        0   \n",
              "3              0.000         0.425       0   2.000                        0   \n",
              "4              0.000         0.779       0   3.000                        0   \n",
              "5              0.000         0.660       0   4.000                        0   \n",
              "6              0.000         0.836       0   3.000                        0   \n",
              "7              0.000         0.797       0   3.000                        0   \n",
              "8              0.000         0.715       0   7.000                        0   \n",
              "9              0.000         0.994       0   2.000                        0   \n",
              "\n",
              "   underperformer  unhappy  overachiever  department_IT  department_Missing  \\\n",
              "0               0        0             1              0                   0   \n",
              "1               0        0             0              0                   0   \n",
              "2               0        0             0              0                   0   \n",
              "3               1        0             0              0                   0   \n",
              "4               0        0             1              0                   0   \n",
              "5               1        0             0              0                   0   \n",
              "6               0        0             0              0                   0   \n",
              "7               0        0             0              0                   0   \n",
              "8               1        0             0              0                   0   \n",
              "9               0        0             1              0                   0   \n",
              "\n",
              "   department_admin  department_engineering  department_finance  \\\n",
              "0                 0                       1                   0   \n",
              "1                 0                       0                   0   \n",
              "2                 0                       0                   0   \n",
              "3                 0                       0                   0   \n",
              "4                 0                       0                   0   \n",
              "5                 0                       0                   0   \n",
              "6                 0                       0                   0   \n",
              "7                 0                       1                   0   \n",
              "8                 0                       1                   0   \n",
              "9                 0                       0                   0   \n",
              "\n",
              "   department_management  department_marketing  department_procurement  \\\n",
              "0                      0                     0                       0   \n",
              "1                      0                     0                       0   \n",
              "2                      0                     0                       0   \n",
              "3                      0                     0                       0   \n",
              "4                      0                     0                       0   \n",
              "5                      0                     0                       0   \n",
              "6                      0                     0                       0   \n",
              "7                      0                     0                       0   \n",
              "8                      0                     0                       0   \n",
              "9                      0                     0                       0   \n",
              "\n",
              "   department_product  department_sales  department_support  salary_high  \\\n",
              "0                   0                 0                   0            0   \n",
              "1                   0                 0                   1            0   \n",
              "2                   0                 1                   0            0   \n",
              "3                   0                 1                   0            0   \n",
              "4                   0                 1                   0            0   \n",
              "5                   0                 1                   0            0   \n",
              "6                   0                 1                   0            0   \n",
              "7                   0                 0                   0            0   \n",
              "8                   0                 0                   0            0   \n",
              "9                   0                 0                   1            0   \n",
              "\n",
              "   salary_low  salary_medium  \n",
              "0           1              0  \n",
              "1           1              0  \n",
              "2           0              1  \n",
              "3           1              0  \n",
              "4           1              0  \n",
              "5           0              1  \n",
              "6           1              0  \n",
              "7           1              0  \n",
              "8           0              1  \n",
              "9           0              1  "
            ]
          },
          "metadata": {
            "tags": []
          },
          "execution_count": 24
        }
      ]
    },
    {
      "cell_type": "markdown",
      "metadata": {
        "id": "JgJznwBHvUz3",
        "colab_type": "text"
      },
      "source": [
        "<strong style=\"color:RoyalBlue\">Expected output:</strong>"
      ]
    },
    {
      "cell_type": "markdown",
      "metadata": {
        "id": "DeY4UkQhvUz3",
        "colab_type": "text"
      },
      "source": [
        "<table border=\"1\" class=\"dataframe\">\n",
        "  <thead>\n",
        "    <tr style=\"text-align: right;\">\n",
        "      <th></th>\n",
        "      <th>avg_monthly_hrs</th>\n",
        "      <th>filed_complaint</th>\n",
        "      <th>last_evaluation</th>\n",
        "      <th>n_projects</th>\n",
        "      <th>recently_promoted</th>\n",
        "      <th>satisfaction</th>\n",
        "      <th>status</th>\n",
        "      <th>tenure</th>\n",
        "      <th>last_evaluation_missing</th>\n",
        "      <th>underperformer</th>\n",
        "      <th>unhappy</th>\n",
        "      <th>overachiever</th>\n",
        "      <th>department_IT</th>\n",
        "      <th>department_Missing</th>\n",
        "      <th>department_admin</th>\n",
        "      <th>department_engineering</th>\n",
        "      <th>department_finance</th>\n",
        "      <th>department_management</th>\n",
        "      <th>department_marketing</th>\n",
        "      <th>department_procurement</th>\n",
        "      <th>department_product</th>\n",
        "      <th>department_sales</th>\n",
        "      <th>department_support</th>\n",
        "      <th>salary_high</th>\n",
        "      <th>salary_low</th>\n",
        "      <th>salary_medium</th>\n",
        "    </tr>\n",
        "  </thead>\n",
        "  <tbody>\n",
        "    <tr>\n",
        "      <th>0</th>\n",
        "      <td>221</td>\n",
        "      <td>0.0</td>\n",
        "      <td>0.932868</td>\n",
        "      <td>4</td>\n",
        "      <td>0.0</td>\n",
        "      <td>0.829896</td>\n",
        "      <td>1</td>\n",
        "      <td>5.0</td>\n",
        "      <td>0</td>\n",
        "      <td>0</td>\n",
        "      <td>0</td>\n",
        "      <td>1</td>\n",
        "      <td>0</td>\n",
        "      <td>0</td>\n",
        "      <td>0</td>\n",
        "      <td>1</td>\n",
        "      <td>0</td>\n",
        "      <td>0</td>\n",
        "      <td>0</td>\n",
        "      <td>0</td>\n",
        "      <td>0</td>\n",
        "      <td>0</td>\n",
        "      <td>0</td>\n",
        "      <td>0</td>\n",
        "      <td>1</td>\n",
        "      <td>0</td>\n",
        "    </tr>\n",
        "    <tr>\n",
        "      <th>1</th>\n",
        "      <td>232</td>\n",
        "      <td>0.0</td>\n",
        "      <td>0.000000</td>\n",
        "      <td>3</td>\n",
        "      <td>0.0</td>\n",
        "      <td>0.834544</td>\n",
        "      <td>0</td>\n",
        "      <td>2.0</td>\n",
        "      <td>1</td>\n",
        "      <td>0</td>\n",
        "      <td>0</td>\n",
        "      <td>0</td>\n",
        "      <td>0</td>\n",
        "      <td>0</td>\n",
        "      <td>0</td>\n",
        "      <td>0</td>\n",
        "      <td>0</td>\n",
        "      <td>0</td>\n",
        "      <td>0</td>\n",
        "      <td>0</td>\n",
        "      <td>0</td>\n",
        "      <td>0</td>\n",
        "      <td>1</td>\n",
        "      <td>0</td>\n",
        "      <td>1</td>\n",
        "      <td>0</td>\n",
        "    </tr>\n",
        "    <tr>\n",
        "      <th>2</th>\n",
        "      <td>184</td>\n",
        "      <td>0.0</td>\n",
        "      <td>0.788830</td>\n",
        "      <td>3</td>\n",
        "      <td>0.0</td>\n",
        "      <td>0.834988</td>\n",
        "      <td>0</td>\n",
        "      <td>3.0</td>\n",
        "      <td>0</td>\n",
        "      <td>0</td>\n",
        "      <td>0</td>\n",
        "      <td>0</td>\n",
        "      <td>0</td>\n",
        "      <td>0</td>\n",
        "      <td>0</td>\n",
        "      <td>0</td>\n",
        "      <td>0</td>\n",
        "      <td>0</td>\n",
        "      <td>0</td>\n",
        "      <td>0</td>\n",
        "      <td>0</td>\n",
        "      <td>1</td>\n",
        "      <td>0</td>\n",
        "      <td>0</td>\n",
        "      <td>0</td>\n",
        "      <td>1</td>\n",
        "    </tr>\n",
        "    <tr>\n",
        "      <th>3</th>\n",
        "      <td>206</td>\n",
        "      <td>0.0</td>\n",
        "      <td>0.575688</td>\n",
        "      <td>4</td>\n",
        "      <td>0.0</td>\n",
        "      <td>0.424764</td>\n",
        "      <td>0</td>\n",
        "      <td>2.0</td>\n",
        "      <td>0</td>\n",
        "      <td>1</td>\n",
        "      <td>0</td>\n",
        "      <td>0</td>\n",
        "      <td>0</td>\n",
        "      <td>0</td>\n",
        "      <td>0</td>\n",
        "      <td>0</td>\n",
        "      <td>0</td>\n",
        "      <td>0</td>\n",
        "      <td>0</td>\n",
        "      <td>0</td>\n",
        "      <td>0</td>\n",
        "      <td>1</td>\n",
        "      <td>0</td>\n",
        "      <td>0</td>\n",
        "      <td>1</td>\n",
        "      <td>0</td>\n",
        "    </tr>\n",
        "    <tr>\n",
        "      <th>4</th>\n",
        "      <td>249</td>\n",
        "      <td>0.0</td>\n",
        "      <td>0.845217</td>\n",
        "      <td>3</td>\n",
        "      <td>0.0</td>\n",
        "      <td>0.779043</td>\n",
        "      <td>0</td>\n",
        "      <td>3.0</td>\n",
        "      <td>0</td>\n",
        "      <td>0</td>\n",
        "      <td>0</td>\n",
        "      <td>1</td>\n",
        "      <td>0</td>\n",
        "      <td>0</td>\n",
        "      <td>0</td>\n",
        "      <td>0</td>\n",
        "      <td>0</td>\n",
        "      <td>0</td>\n",
        "      <td>0</td>\n",
        "      <td>0</td>\n",
        "      <td>0</td>\n",
        "      <td>1</td>\n",
        "      <td>0</td>\n",
        "      <td>0</td>\n",
        "      <td>1</td>\n",
        "      <td>0</td>\n",
        "    </tr>\n",
        "    <tr>\n",
        "      <th>5</th>\n",
        "      <td>140</td>\n",
        "      <td>0.0</td>\n",
        "      <td>0.589097</td>\n",
        "      <td>4</td>\n",
        "      <td>0.0</td>\n",
        "      <td>0.660020</td>\n",
        "      <td>0</td>\n",
        "      <td>4.0</td>\n",
        "      <td>0</td>\n",
        "      <td>1</td>\n",
        "      <td>0</td>\n",
        "      <td>0</td>\n",
        "      <td>0</td>\n",
        "      <td>0</td>\n",
        "      <td>0</td>\n",
        "      <td>0</td>\n",
        "      <td>0</td>\n",
        "      <td>0</td>\n",
        "      <td>0</td>\n",
        "      <td>0</td>\n",
        "      <td>0</td>\n",
        "      <td>1</td>\n",
        "      <td>0</td>\n",
        "      <td>0</td>\n",
        "      <td>0</td>\n",
        "      <td>1</td>\n",
        "    </tr>\n",
        "    <tr>\n",
        "      <th>6</th>\n",
        "      <td>121</td>\n",
        "      <td>1.0</td>\n",
        "      <td>0.625399</td>\n",
        "      <td>3</td>\n",
        "      <td>0.0</td>\n",
        "      <td>0.835571</td>\n",
        "      <td>0</td>\n",
        "      <td>3.0</td>\n",
        "      <td>0</td>\n",
        "      <td>0</td>\n",
        "      <td>0</td>\n",
        "      <td>0</td>\n",
        "      <td>0</td>\n",
        "      <td>0</td>\n",
        "      <td>0</td>\n",
        "      <td>0</td>\n",
        "      <td>0</td>\n",
        "      <td>0</td>\n",
        "      <td>0</td>\n",
        "      <td>0</td>\n",
        "      <td>0</td>\n",
        "      <td>1</td>\n",
        "      <td>0</td>\n",
        "      <td>0</td>\n",
        "      <td>1</td>\n",
        "      <td>0</td>\n",
        "    </tr>\n",
        "    <tr>\n",
        "      <th>7</th>\n",
        "      <td>150</td>\n",
        "      <td>0.0</td>\n",
        "      <td>0.644586</td>\n",
        "      <td>4</td>\n",
        "      <td>0.0</td>\n",
        "      <td>0.796683</td>\n",
        "      <td>0</td>\n",
        "      <td>3.0</td>\n",
        "      <td>0</td>\n",
        "      <td>0</td>\n",
        "      <td>0</td>\n",
        "      <td>0</td>\n",
        "      <td>0</td>\n",
        "      <td>0</td>\n",
        "      <td>0</td>\n",
        "      <td>1</td>\n",
        "      <td>0</td>\n",
        "      <td>0</td>\n",
        "      <td>0</td>\n",
        "      <td>0</td>\n",
        "      <td>0</td>\n",
        "      <td>0</td>\n",
        "      <td>0</td>\n",
        "      <td>0</td>\n",
        "      <td>1</td>\n",
        "      <td>0</td>\n",
        "    </tr>\n",
        "    <tr>\n",
        "      <th>8</th>\n",
        "      <td>215</td>\n",
        "      <td>1.0</td>\n",
        "      <td>0.524114</td>\n",
        "      <td>3</td>\n",
        "      <td>0.0</td>\n",
        "      <td>0.715005</td>\n",
        "      <td>0</td>\n",
        "      <td>7.0</td>\n",
        "      <td>0</td>\n",
        "      <td>1</td>\n",
        "      <td>0</td>\n",
        "      <td>0</td>\n",
        "      <td>0</td>\n",
        "      <td>0</td>\n",
        "      <td>0</td>\n",
        "      <td>1</td>\n",
        "      <td>0</td>\n",
        "      <td>0</td>\n",
        "      <td>0</td>\n",
        "      <td>0</td>\n",
        "      <td>0</td>\n",
        "      <td>0</td>\n",
        "      <td>0</td>\n",
        "      <td>0</td>\n",
        "      <td>0</td>\n",
        "      <td>1</td>\n",
        "    </tr>\n",
        "    <tr>\n",
        "      <th>9</th>\n",
        "      <td>269</td>\n",
        "      <td>0.0</td>\n",
        "      <td>0.909364</td>\n",
        "      <td>5</td>\n",
        "      <td>0.0</td>\n",
        "      <td>0.994037</td>\n",
        "      <td>0</td>\n",
        "      <td>2.0</td>\n",
        "      <td>0</td>\n",
        "      <td>0</td>\n",
        "      <td>0</td>\n",
        "      <td>1</td>\n",
        "      <td>0</td>\n",
        "      <td>0</td>\n",
        "      <td>0</td>\n",
        "      <td>0</td>\n",
        "      <td>0</td>\n",
        "      <td>0</td>\n",
        "      <td>0</td>\n",
        "      <td>0</td>\n",
        "      <td>0</td>\n",
        "      <td>0</td>\n",
        "      <td>1</td>\n",
        "      <td>0</td>\n",
        "      <td>0</td>\n",
        "      <td>1</td>\n",
        "    </tr>\n",
        "  </tbody>\n",
        "</table>"
      ]
    },
    {
      "cell_type": "markdown",
      "metadata": {
        "id": "kBg-KgrJvUz4",
        "colab_type": "text"
      },
      "source": [
        "Finally, it doesn't look like we have any **unused or redundant features** in our augmented dataframe. Let's save this augmented dataframe.\n",
        "\n",
        "#### D.) Save this dataframe as your <span style=\"color:royalblue\">analytical base table</span> to use in later modules.\n",
        "* Remember to set the argument <code style=\"color:steelblue\">index=None</code> to save only the data."
      ]
    },
    {
      "cell_type": "code",
      "metadata": {
        "id": "zWMSAh4PvUz5",
        "colab_type": "code",
        "colab": {}
      },
      "source": [
        "df.to_csv('analytical_base_table.csv', index=None)"
      ],
      "execution_count": null,
      "outputs": []
    },
    {
      "cell_type": "markdown",
      "metadata": {
        "id": "jzPNyCstvUz-",
        "colab_type": "text"
      },
      "source": [
        "Congratulations for making through ABT Construction! As a reminder, here are a few things you did in this module:\n",
        "* You cleaned dropped irrelevant observations from the dataset.\n",
        "* You fixed various structural errors, such as wannabe indicator variables.\n",
        "* You handled missing data.\n",
        "* You engineered features by leveraging your exploratory analysis.\n",
        "* And you created dummy variables before saving the ABT.\n",
        "\n",
        "In the next module, we'll take a detour from the project and dive into some more machine learning concepts. We'll also introduce the classification algorithms we'll be using for this project."
      ]
    }
  ]
}